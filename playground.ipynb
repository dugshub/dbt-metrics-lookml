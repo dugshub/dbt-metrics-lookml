{
 "cells": [
  {
   "metadata": {
    "ExecuteTime": {
     "end_time": "2024-08-04T23:17:38.250366Z",
     "start_time": "2024-08-04T23:17:38.228750Z"
    }
   },
   "cell_type": "code",
   "source": "import yaml",
   "id": "bd526b0060876e06",
   "outputs": [],
   "execution_count": 5
  },
  {
   "metadata": {
    "ExecuteTime": {
     "end_time": "2024-08-04T23:17:55.655203Z",
     "start_time": "2024-08-04T23:17:55.647258Z"
    }
   },
   "cell_type": "code",
   "source": "saved_query = yaml.safe_load(open('saved_query.yaml', 'r'))",
   "id": "b0887f43a8e3484a",
   "outputs": [],
   "execution_count": 7
  },
  {
   "metadata": {
    "ExecuteTime": {
     "end_time": "2024-08-04T23:18:38.574992Z",
     "start_time": "2024-08-04T23:18:38.572097Z"
    }
   },
   "cell_type": "code",
   "source": "query_metric_list = saved_query['query_params']['metrics']",
   "id": "91ddadae53a24800",
   "outputs": [],
   "execution_count": 14
  },
  {
   "metadata": {
    "ExecuteTime": {
     "end_time": "2024-08-04T23:18:51.460263Z",
     "start_time": "2024-08-04T23:18:51.457812Z"
    }
   },
   "cell_type": "code",
   "source": "query_dimension_list = saved_query['query_params']['group_by']",
   "id": "fef8dbbdc289c5f5",
   "outputs": [],
   "execution_count": 17
  },
  {
   "metadata": {
    "ExecuteTime": {
     "end_time": "2024-08-04T23:23:56.848833Z",
     "start_time": "2024-08-04T23:23:56.844957Z"
    }
   },
   "cell_type": "code",
   "source": [
    "query_dimension_list = [dimension.split(\"'\")[1] for dimension in query_dimension_list]\n",
    "\n"
   ],
   "id": "3aa84c2682523dc8",
   "outputs": [
    {
     "data": {
      "text/plain": [
       "['rental',\n",
       " 'metric_time',\n",
       " 'destination__state',\n",
       " 'destination__status',\n",
       " 'destination__street_address',\n",
       " 'destination__title',\n",
       " 'destination__venue_content_enabled',\n",
       " 'destination__zipcode',\n",
       " 'event__destination_id',\n",
       " 'event__created',\n",
       " 'event__deleted',\n",
       " 'event__description',\n",
       " 'destination__can_have_events',\n",
       " 'destination__city',\n",
       " 'destination__created',\n",
       " 'destination__default_event_length',\n",
       " 'destination__deleted',\n",
       " 'destination__description',\n",
       " 'destination__desktop_zoom_level',\n",
       " 'destination__destination_id',\n",
       " 'destination__generic_destination',\n",
       " 'destination__last_updated',\n",
       " 'destination__parent_destination_id',\n",
       " 'event__ends',\n",
       " 'event__event_ends_offset',\n",
       " 'event__event_id',\n",
       " 'event__event_starts_offset',\n",
       " 'event__is_deleted_parent_event',\n",
       " 'event__is_high_profile',\n",
       " 'event__last_updated',\n",
       " 'event__parent_event_id',\n",
       " 'event__popularity_score',\n",
       " 'event__seatgeek_destination',\n",
       " 'event__seatgeek_id',\n",
       " 'event__seatgeek_update',\n",
       " 'event__short_description',\n",
       " 'event__starts',\n",
       " 'event__title',\n",
       " 'canonical_facility__address_id',\n",
       " 'canonical_facility__canonical_facility_id',\n",
       " 'canonical_facility__canonical_facility_title',\n",
       " 'canonical_facility__external_id',\n",
       " 'canonical_facility__facility_currency',\n",
       " 'canonical_facility__facility_timezone',\n",
       " 'canonical_facility__is_airport_facility',\n",
       " 'canonical_facility__reporting_market',\n",
       " 'canonical_facility__reporting_market_top_6_canada',\n",
       " 'canonical_facility__reporting_market_top_8',\n",
       " 'facility__account_owner',\n",
       " 'facility__facility_created_at',\n",
       " 'facility__facility_title',\n",
       " 'facility__facility_type',\n",
       " 'facility__default_facility_spaces',\n",
       " 'facility__external_id',\n",
       " 'geography__country_name',\n",
       " 'geography__county_name',\n",
       " 'geography__geography_id',\n",
       " 'geography__locality_name',\n",
       " 'geography__neighbourhood_name',\n",
       " 'geography__region_name',\n",
       " 'rental__event_id',\n",
       " 'rental__facility_configuration_id',\n",
       " 'rental__is_valid',\n",
       " 'rental__partner_id',\n",
       " 'rental__payment_type_title',\n",
       " 'rental__rental_created_at_cst',\n",
       " 'rental__rental_created_at_local',\n",
       " 'rental__rental_ends_at_cst',\n",
       " 'rental__rental_ends_at_cst_time',\n",
       " 'rental__rental_ends_at_local',\n",
       " 'rental__rental_ends_at_local_time',\n",
       " 'rental__rental_id',\n",
       " 'rental__rental_length_hours',\n",
       " 'rental__rental_length_minutes',\n",
       " 'rental__rental_payment_status',\n",
       " 'rental__rental_reservation_status',\n",
       " 'rental__rental_rule_type_title',\n",
       " 'rental__rental_segment',\n",
       " 'rental__rental_segment_rollup',\n",
       " 'rental__rental_source_title',\n",
       " 'rental__rental_starts_at_cst',\n",
       " 'rental__rental_starts_at_cst_time',\n",
       " 'rental__rental_starts_at_local',\n",
       " 'rental__rental_starts_at_local_time',\n",
       " 'rental__renter_id',\n",
       " 'renter__date_joined',\n",
       " 'renter__days_since_first_rental',\n",
       " 'renter__days_since_last_rental',\n",
       " 'renter__email',\n",
       " 'renter__first_name',\n",
       " 'renter__first_rental_date',\n",
       " 'renter__first_rental_id',\n",
       " 'renter__last_name',\n",
       " 'renter__last_rental_date',\n",
       " 'renter__last_rental_id',\n",
       " 'renter__lifetime_rentals',\n",
       " 'renter__lifetime_value',\n",
       " 'renter__phone_number',\n",
       " 'renter__renter_id']"
      ]
     },
     "execution_count": 29,
     "metadata": {},
     "output_type": "execute_result"
    }
   ],
   "execution_count": 29
  },
  {
   "metadata": {},
   "cell_type": "code",
   "outputs": [],
   "execution_count": null,
   "source": "",
   "id": "2cc62c78f2d8d07b"
  }
 ],
 "metadata": {
  "kernelspec": {
   "display_name": "Python 3",
   "language": "python",
   "name": "python3"
  },
  "language_info": {
   "codemirror_mode": {
    "name": "ipython",
    "version": 2
   },
   "file_extension": ".py",
   "mimetype": "text/x-python",
   "name": "python",
   "nbconvert_exporter": "python",
   "pygments_lexer": "ipython2",
   "version": "2.7.6"
  }
 },
 "nbformat": 4,
 "nbformat_minor": 5
}
